{
 "cells": [
  {
   "attachments": {},
   "cell_type": "markdown",
   "metadata": {},
   "source": [
    "- 截取视频前一分钟：https://www.bilibili.com/video/BV1wK411v7c1\n",
    "- 用 https://github.com/cunjian/pytorch_face_landmark 检测并绘制视频\n",
    "中每帧的 facial landmarks，最后再合成为带 facial landmarks 的新视频。\n",
    "<br><br>\n",
    "- 注意：\n",
    "- a. 存在多张脸时，每帧只画最大的人脸。\n",
    "- b. 处理视频过程中，所有 weight 应该只加载一次（不能每帧都去加载）。\n",
    "- c. 结果应该包括完整的可执行代码（包括 github 仓库本身）及视频"
   ]
  },
  {
   "cell_type": "code",
   "execution_count": null,
   "metadata": {},
   "outputs": [],
   "source": [
    "# git clone https://github.com/cunjian/pytorch_face_landmark.git"
   ]
  },
  {
   "attachments": {},
   "cell_type": "markdown",
   "metadata": {},
   "source": [
    "提取前1分钟视频"
   ]
  },
  {
   "cell_type": "code",
   "execution_count": 6,
   "metadata": {},
   "outputs": [
    {
     "name": "stdout",
     "output_type": "stream",
     "text": [
      "Moviepy - Building video trimmed_video.mp4.\n",
      "MoviePy - Writing audio in trimmed_videoTEMP_MPY_wvf_snd.mp3\n"
     ]
    },
    {
     "name": "stderr",
     "output_type": "stream",
     "text": [
      "                                                                      \r"
     ]
    },
    {
     "name": "stdout",
     "output_type": "stream",
     "text": [
      "MoviePy - Done.\n",
      "Moviepy - Writing video trimmed_video.mp4\n",
      "\n"
     ]
    },
    {
     "name": "stderr",
     "output_type": "stream",
     "text": [
      "                                                                 "
     ]
    },
    {
     "name": "stdout",
     "output_type": "stream",
     "text": [
      "Moviepy - Done !\n",
      "Moviepy - video ready trimmed_video.mp4\n"
     ]
    },
    {
     "name": "stderr",
     "output_type": "stream",
     "text": [
      "\r"
     ]
    }
   ],
   "source": [
    "from moviepy.video.io.VideoFileClip import VideoFileClip\n",
    "\n",
    "# 读取视频\n",
    "video_path = r'I:\\mydesk\\bishi\\data\\Video.mp4'\n",
    "video = VideoFileClip(video_path)\n",
    "\n",
    "# 截取前1分钟视频\n",
    "trimmed_video = video.subclip(0, 60)  # 60表示1分钟的秒数\n",
    "\n",
    "# 保存截取后的视频\n",
    "output_path = 'trimmed_video.mp4'\n",
    "trimmed_video.write_videofile(output_path)\n"
   ]
  },
  {
   "cell_type": "code",
   "execution_count": null,
   "metadata": {},
   "outputs": [],
   "source": []
  },
  {
   "attachments": {},
   "cell_type": "markdown",
   "metadata": {},
   "source": [
    "合成新视频"
   ]
  },
  {
   "cell_type": "code",
   "execution_count": null,
   "metadata": {},
   "outputs": [],
   "source": [
    "import cv2\n",
    "import torch\n",
    "from models import models\n",
    "from utils import util\n",
    "from moviepy.editor import VideoFileClip\n",
    "from tqdm import tqdm\n",
    "\n",
    "# 加载权重文件\n",
    "device = torch.device('cuda' if torch.cuda.is_available() else 'cpu')\n",
    "model = models.FAN(1)\n",
    "model = util.load_weights(model, 'checkpoint.pth', device=device)\n",
    "model.to(device)\n",
    "model.eval()\n",
    "\n",
    "# 读取视频并获取相关信息\n",
    "video_path = 'I:\\mydesk\\bishi\\data\\trimmed_video.mp4'\n",
    "output_path = 'output_video.mp4'\n",
    "video = VideoFileClip(video_path)\n",
    "fps = video.fps\n",
    "total_frames = int(video.duration * fps)\n",
    "\n",
    "# 保存处理后的视频\n",
    "processed_video = cv2.VideoWriter(output_path, cv2.VideoWriter_fourcc(*'mp4v'), fps, (int(video.size[0]), int(video.size[1])))\n",
    "\n",
    "# 处理视频每一帧\n",
    "for i in tqdm(range(total_frames)):\n",
    "    frame = video.get_frame(i / fps)\n",
    "    frame = cv2.cvtColor(frame, cv2.COLOR_RGB2BGR)\n",
    "\n",
    "    # 使用模型检测人脸关键点\n",
    "    with torch.no_grad():\n",
    "        image = torch.from_numpy(frame.transpose((2, 0, 1))).float().div(255.0).unsqueeze(0).to(device)\n",
    "        _, landmarks = model(image)\n",
    "        landmarks = landmarks[0].cpu().numpy().reshape(-1, 2)\n",
    "\n",
    "    # 获取最大人脸的关键点并绘制\n",
    "    face_idx = util.get_largest_face(landmarks)\n",
    "    landmarks = landmarks[face_idx].astype(int)\n",
    "    for (x, y) in landmarks:\n",
    "        cv2.circle(frame, (x, y), 1, (0, 255, 0), -1)\n",
    "\n",
    "    processed_video.write(frame)\n",
    "\n",
    "# 释放资源\n",
    "video.close()\n",
    "processed_video.release()\n"
   ]
  },
  {
   "cell_type": "code",
   "execution_count": null,
   "metadata": {},
   "outputs": [],
   "source": []
  },
  {
   "cell_type": "code",
   "execution_count": null,
   "metadata": {},
   "outputs": [],
   "source": []
  }
 ],
 "metadata": {
  "kernelspec": {
   "display_name": "nlptorchcopy",
   "language": "python",
   "name": "python3"
  },
  "language_info": {
   "codemirror_mode": {
    "name": "ipython",
    "version": 3
   },
   "file_extension": ".py",
   "mimetype": "text/x-python",
   "name": "python",
   "nbconvert_exporter": "python",
   "pygments_lexer": "ipython3",
   "version": "3.8.15"
  },
  "orig_nbformat": 4
 },
 "nbformat": 4,
 "nbformat_minor": 2
}
